{
 "cells": [
  {
   "cell_type": "code",
   "execution_count": 2,
   "id": "f6870951",
   "metadata": {},
   "outputs": [],
   "source": [
    "import urllib\n",
    "import requests\n",
    "import os\n"
   ]
  },
  {
   "attachments": {},
   "cell_type": "markdown",
   "id": "5f0668ab",
   "metadata": {},
   "source": [
    "# Scripts to download images from urls\n",
    "\n",
    "'folders' - To create specific folder for each data                                                                         \n",
    "'urls' - To access the specific urls                                                                                       \n",
    "'names' - To make every image distinct to it's data                                                                          \n",
    "\n"
   ]
  },
  {
   "cell_type": "code",
   "execution_count": null,
   "id": "2c827170",
   "metadata": {},
   "outputs": [],
   "source": [
    "folders = ['drawings','hentai','neutral','porn','sexy']\n",
    "urls = ['urls_drawings.txt','urls_hentai.txt','urls_neutral.txt','urls_porn.txt','urls_sexy.txt']\n",
    "names = ['d','h','n','p','s']\n",
    "\n",
    "for i,j,k in zip(folders,urls,names):\n",
    "    try:\n",
    "        #Specify the path of the  folder that has to be made\n",
    "        folder_path = os.path.join('{url_text_file_directory}',i)\n",
    "        os.mkdir(folder_path)\n",
    "    except:\n",
    "        pass\n",
    "    #setup the path of url\n",
    "    url_path = os.path.join('Datasets_Urls',j)\n",
    "    my_file = open(url_path, \"r\")\n",
    "    data = my_file.read()\n",
    "    #\n",
    "    data_into_list = data.split(\"\\n\")\n",
    "    my_file.close()\n",
    "    icount = 0\n",
    "    for ii in data_into_list:\n",
    "        try:\n",
    "            image_name = 'image'+str(icount)+str(k)+'.jpg'\n",
    "            image_path = os.path.join(folder_path,image_name)\n",
    "            urllib.request.urlretrieve(ii, image_path)\n",
    "            icount+=1\n",
    "        except Exception as e:\n",
    "            print(\"\\r\",e,icount,end=\" \")\n",
    "        if icount == 2000:\n",
    "            break\n",
    "    "
   ]
  },
  {
   "cell_type": "code",
   "execution_count": null,
   "id": "2c6a2be8",
   "metadata": {},
   "outputs": [],
   "source": []
  },
  {
   "cell_type": "code",
   "execution_count": null,
   "id": "31edd51a",
   "metadata": {},
   "outputs": [],
   "source": []
  }
 ],
 "metadata": {
  "kernelspec": {
   "display_name": "Python 3 (ipykernel)",
   "language": "python",
   "name": "python3"
  },
  "language_info": {
   "codemirror_mode": {
    "name": "ipython",
    "version": 3
   },
   "file_extension": ".py",
   "mimetype": "text/x-python",
   "name": "python",
   "nbconvert_exporter": "python",
   "pygments_lexer": "ipython3",
   "version": "3.11.3"
  }
 },
 "nbformat": 4,
 "nbformat_minor": 5
}
